{
 "cells": [
  {
   "cell_type": "markdown",
   "metadata": {},
   "source": [
    "### 1) Research on whether addition, subtraction, multiplication, division, floor division and modulo operations be performed on complex numbers. Based on your study, implement a Python program to demonstrate these operations."
   ]
  },
  {
   "cell_type": "code",
   "execution_count": 18,
   "metadata": {},
   "outputs": [
    {
     "name": "stdout",
     "output_type": "stream",
     "text": [
      "(6-6j)\n",
      "(-2+12j)\n",
      "(35-6j)\n",
      "(-0.1958762886597938+0.3092783505154639j)\n"
     ]
    },
    {
     "data": {
      "text/plain": [
       "'floor division operations are not performed on complex numbers.\\ni=a//b\\nprint(i)'"
      ]
     },
     "execution_count": 18,
     "metadata": {},
     "output_type": "execute_result"
    }
   ],
   "source": [
    "a=2+3j\n",
    "b=4-9j\n",
    "#addition of two complex numbers\n",
    "c=a+b\n",
    "print(c)\n",
    "d=a-b\n",
    "print(d)\n",
    "e=a*b\n",
    "print(e)\n",
    "f=a/b\n",
    "print(f)\n",
    "\"\"\"modulo operations are not performed on complex numbers.\n",
    "g=a%b\n",
    "print(g)\"\"\"\n",
    "\n",
    "\"\"\"floor division operati.ns are not performed on complex numbers.\n",
    "i=a//b\n",
    "print(i)\"\"\""
   ]
  },
  {
   "cell_type": "markdown",
   "metadata": {},
   "source": [
    "### 2) Research on range() functions and its parameters. Create a markdown cell and write in your ownwords (no copy-paste from google please) what you understand about it. Implement a small program of your choice on the same.\n"
   ]
  },
  {
   "cell_type": "markdown",
   "metadata": {},
   "source": [
    "# Range() Function:\n",
    "The range() function returns a sequence of numbers, starting from 0 and increments by 1 by default, and stops before a specified number.\n",
    "\n",
    "# Syntax\n",
    "range(start, stop, step)\n",
    "\n",
    "\n",
    "# Parameter\tDescription\n",
    "start: Optional. An integer number specifying at which position to start. Default is 0.\n",
    "\n",
    "stop: Required. An integer number specifying at which position to stop (not included).\n",
    "\n",
    "step: Optional. An integer number specifying the incrementation. Default is 1.\n"
   ]
  },
  {
   "cell_type": "code",
   "execution_count": 1,
   "metadata": {},
   "outputs": [
    {
     "name": "stdout",
     "output_type": "stream",
     "text": [
      "0\n",
      "1\n",
      "2\n",
      "3\n",
      "4\n",
      "5\n",
      "6\n",
      "7\n",
      "8\n",
      "9\n",
      "10\n",
      "11\n",
      "12\n",
      "13\n",
      "14\n",
      "15\n"
     ]
    }
   ],
   "source": [
    "# a sequence of numbers from 0 to 15, and print each item in the sequence:\n",
    "a=range(16)\n",
    "for n in a:\n",
    "    print(n)"
   ]
  },
  {
   "cell_type": "code",
   "execution_count": 2,
   "metadata": {},
   "outputs": [
    {
     "name": "stdout",
     "output_type": "stream",
     "text": [
      "2\n",
      "3\n",
      "4\n",
      "5\n",
      "6\n",
      "7\n",
      "8\n",
      "9\n"
     ]
    }
   ],
   "source": [
    "# a sequence of numbers from 3 to 5, and print each item in the sequence:\n",
    "x=range(2,10)\n",
    "for n in x:\n",
    "    print(n)"
   ]
  },
  {
   "cell_type": "code",
   "execution_count": 3,
   "metadata": {},
   "outputs": [
    {
     "name": "stdout",
     "output_type": "stream",
     "text": [
      "1\n",
      "3\n",
      "5\n",
      "7\n",
      "9\n",
      "11\n",
      "13\n",
      "15\n",
      "17\n",
      "19\n"
     ]
    }
   ],
   "source": [
    "# a sequence of numbers from 3 +to 19, but increment by 2 instead of 1:\n",
    "x=range(1,20,2)\n",
    "for n in x:\n",
    "    print(n)\n",
    "    "
   ]
  },
  {
   "cell_type": "markdown",
   "metadata": {},
   "source": [
    "# MARKDOWN CELL :\n",
    "\n",
    "Text can be added to Jupyter Notebooks using Markdown cells. \n",
    "\n",
    "\n",
    "You can change the cell type of any cell in Jupyter Notebook using the Toolbar. The default cell type is Code. To use the Keyboard Shortcuts, hit the esc key. After that, you can change a cell to Markdown by hitting the m key, or you can change a cell to Code by hitting the y key."
   ]
  },
  {
   "cell_type": "markdown",
   "metadata": {},
   "source": [
    " ### 3) Consider two numbers. Perform their subtraction and if the result of subtraction is greater than 25, print their multiplication result else print their division result.\n"
   ]
  },
  {
   "cell_type": "code",
   "execution_count": 8,
   "metadata": {},
   "outputs": [
    {
     "name": "stdout",
     "output_type": "stream",
     "text": [
      "3900\n"
     ]
    }
   ],
   "source": [
    "a=100\n",
    "b=39\n",
    "c=a-b\n",
    "if c>25:\n",
    "# if the c value is greater than 25 then multiplication is performed    \n",
    "    print(a*b)\n",
    "else:\n",
    "# if the c value is lessthan 25 the division operation is performed    \n",
    "    print(a/b)\n"
   ]
  },
  {
   "cell_type": "markdown",
   "metadata": {},
   "source": [
    "### 4) Consider a list of 10 elements of integer values. If the number in the list is divisible by 2, print the result as \"square of that number minus 2\"."
   ]
  },
  {
   "cell_type": "code",
   "execution_count": 27,
   "metadata": {},
   "outputs": [
    {
     "name": "stdout",
     "output_type": "stream",
     "text": [
      "-1\n",
      "2\n",
      "7\n",
      "14\n",
      "23\n",
      "34\n",
      "47\n",
      "62\n",
      "79\n"
     ]
    }
   ],
   "source": [
    "for i in range(10):\n",
    "    if(i/2):\n",
    "        print((i*i)-2)\n",
    "    "
   ]
  },
  {
   "cell_type": "markdown",
   "metadata": {},
   "source": [
    "### 5) Consider a list of 10 elements. Print all the elements in the list which are greater than 7 when that number is divided 2."
   ]
  },
  {
   "cell_type": "code",
   "execution_count": 11,
   "metadata": {},
   "outputs": [
    {
     "name": "stdout",
     "output_type": "stream",
     "text": [
      "100\n"
     ]
    }
   ],
   "source": [
    "l=[1,2,3,4,5,6,7,8,9,100]\n",
    "for i in l:\n",
    "    if((i/2)>7):\n",
    "        print(i)"
   ]
  }
 ],
 "metadata": {
  "kernelspec": {
   "display_name": "Python 3",
   "language": "python",
   "name": "python3"
  },
  "language_info": {
   "codemirror_mode": {
    "name": "ipython",
    "version": 3
   },
   "file_extension": ".py",
   "mimetype": "text/x-python",
   "name": "python",
   "nbconvert_exporter": "python",
   "pygments_lexer": "ipython3",
   "version": "3.7.6"
  }
 },
 "nbformat": 4,
 "nbformat_minor": 4
}
