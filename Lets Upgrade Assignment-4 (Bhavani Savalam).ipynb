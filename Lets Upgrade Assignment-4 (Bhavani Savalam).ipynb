{
 "cells": [
  {
   "cell_type": "markdown",
   "metadata": {},
   "source": [
    " ### 1) Assuming that we have some email addresses in the \"username@companyname.com\" format, please write program to print the company name of a given email address. Both user names and company names are composed of letters only.\n",
    "Input Format:\n",
    "\n",
    "The first line of the input contains an email address.\n",
    "\n",
    "Output Format:\n",
    "\n",
    "Print the company name in single line.\n",
    "\n",
    "Example:\n",
    "\n",
    "Input:\n",
    "\n",
    "john@google.com\n",
    "\n",
    "Output:\n",
    "\n",
    "google"
   ]
  },
  {
   "cell_type": "code",
   "execution_count": 2,
   "metadata": {},
   "outputs": [
    {
     "name": "stdout",
     "output_type": "stream",
     "text": [
      "bhavani\n"
     ]
    }
   ],
   "source": [
    "a= \"username@bhavani.com\"\n",
    "print(a[9:16])"
   ]
  },
  {
   "cell_type": "markdown",
   "metadata": {},
   "source": [
    "### 2)Write a program that accepts a comma-separated sequence of words as input and prints the words in a comma separated sequence after sorting them alphabetically.\n",
    "Input Format:\n",
    "\n",
    "The first line of input contains words separated by the comma.\n",
    "\n",
    "Output Format:\n",
    "\n",
    "Print the sorted words separated by the comma.\n",
    "\n",
    "Example:\n",
    "\n",
    "Input:\n",
    "without,hello,bag,world\n",
    "\n",
    "Output:\n",
    "bag,hello,without,world"
   ]
  },
  {
   "cell_type": "code",
   "execution_count": 7,
   "metadata": {},
   "outputs": [
    {
     "name": "stdout",
     "output_type": "stream",
     "text": [
      "['apple', 'bull', 'cup', 'zoo']\n"
     ]
    }
   ],
   "source": [
    "a=[\"cup\",\"bull\",\"zoo\",\"apple\"]\n",
    "a.sort()\n",
    "print(a)"
   ]
  },
  {
   "cell_type": "markdown",
   "metadata": {},
   "source": [
    "### 3) Given a list of n-1 numbers ranging from 1 to n, your task is to find the missing number. There are no duplicates.\n",
    "Input Format: \n",
    "\n",
    "The first line contains n-1 numbers with each number separated by a space.\n",
    "\n",
    "Output Format:\n",
    "\n",
    "Print the missing number\n",
    "\n",
    "Example:\n",
    "\n",
    "Input:1 2 4 6 3 7 8\n",
    "Output:5\n",
    "\n",
    "Explanation:\n",
    "In the above list of numbers 5 is missing and hence 5 is the input"
   ]
  },
  {
   "cell_type": "code",
   "execution_count": 1,
   "metadata": {},
   "outputs": [
    {
     "name": "stdout",
     "output_type": "stream",
     "text": [
      "The missing number is 6\n"
     ]
    }
   ],
   "source": [
    "# Find the missing number in the given list\n",
    "def getMissingNumber(A):\n",
    "    m = len(A) + 1\n",
    "    total = m * (m + 1) // 2\n",
    "    return total - sum(A)\n",
    "A = [1, 2, 3, 4, 5, 7, 8, 9, 10]\n",
    "print(\"The missing number is\", getMissingNumber(A))\n"
   ]
  },
  {
   "cell_type": "code",
   "execution_count": null,
   "metadata": {},
   "outputs": [],
   "source": [
    "https://www.w3schools.com/python/python_sets.asp"
   ]
  },
  {
   "cell_type": "code",
   "execution_count": null,
   "metadata": {},
   "outputs": [],
   "source": [
    "thisset = {\"apple\", \"banana\", \"cherry\"}\n",
    "print(thisset)"
   ]
  },
  {
   "cell_type": "code",
   "execution_count": 17,
   "metadata": {},
   "outputs": [
    {
     "name": "stdout",
     "output_type": "stream",
     "text": [
      "bb\n",
      "aa\n",
      "cc\n"
     ]
    }
   ],
   "source": [
    "a={\"aa\",\"bb\",\"cc\"}\n",
    "for n in a:\n",
    "    print(n)"
   ]
  },
  {
   "cell_type": "code",
   "execution_count": 29,
   "metadata": {},
   "outputs": [
    {
     "name": "stdout",
     "output_type": "stream",
     "text": [
      "True\n",
      "{'cherry', 'bhavani', 'apple', 'banana'}\n",
      "{'c', 'bhavani', 'banana', 'b', 'cherry', 'aa', 'apple'}\n",
      "7\n",
      "{'c', 'bhavani', 'banana', 'b', 'cherry', 'aa'}\n",
      "set()\n"
     ]
    }
   ],
   "source": [
    " b={\"apple\", \"banana\", \"cherry\"}\n",
    "print(\"apple\" in b)\n",
    "b.add(\"bhavani\")\n",
    "print(b)\n",
    "b.update([\"aa\",\"b\",\"c\"])\n",
    "print(b)\n",
    "a=len(b) \n",
    "print(a)\n",
    "b.remove(\"apple\")\n",
    "print(b)\n",
    "b.clear()\n",
    "print(b)\n"
   ]
  },
  {
   "cell_type": "markdown",
   "metadata": {},
   "source": [
    "### 5)With a given list L, write a program to print this list L after removing all duplicate values with original order reserved.\n",
    "Example:\n",
    "\n",
    "If the input list is\n",
    "12 24 35 24 88 120 155 88 120 155\n",
    "\n",
    "Then the output should be\n",
    "12 24 35 88 120 155\n",
    "Explanation:\n",
    "\n",
    "Third, seventh and ninth element of the list L has been removed because it was already present.\n",
    "\n",
    "Input Format:\n",
    "\n",
    "In one line take the elements of the list L with each element separated by a space.\n",
    "\n",
    "Output Format:\n",
    "\n",
    "Print the elements of the modified list in one line with each element separated by a space.\n",
    "Example:\n",
    "Input: 12 24 35 24\n",
    "Output:\n",
    "12 24 35"
   ]
  },
  {
   "cell_type": "code",
   "execution_count": 16,
   "metadata": {},
   "outputs": [
    {
     "name": "stdout",
     "output_type": "stream",
     "text": [
      "[2, 4, 10, 20, 5]\n"
     ]
    }
   ],
   "source": [
    "def Remove(list1): \n",
    "    list2 = [] \n",
    "    for num in list1: \n",
    "        if num not in list2: \n",
    "            list2.append(num) \n",
    "    return list2\n",
    "      \n",
    "# Driver Code \n",
    "list1 = [2, 4, 10, 20, 5, 2, 20, 4] \n",
    "print(Remove(list1)) "
   ]
  }
 ],
 "metadata": {
  "kernelspec": {
   "display_name": "Python 3",
   "language": "python",
   "name": "python3"
  },
  "language_info": {
   "codemirror_mode": {
    "name": "ipython",
    "version": 3
   },
   "file_extension": ".py",
   "mimetype": "text/x-python",
   "name": "python",
   "nbconvert_exporter": "python",
   "pygments_lexer": "ipython3",
   "version": "3.7.6"
  }
 },
 "nbformat": 4,
 "nbformat_minor": 4
}
